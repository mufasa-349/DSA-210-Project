{
 "cells": [
  {
   "cell_type": "code",
   "metadata": {
    "ExecuteTime": {
     "end_time": "2025-01-10T15:27:07.008464Z",
     "start_time": "2025-01-10T15:27:06.935623Z"
    }
   },
   "source": [
    "# Import libraries\n",
    "import pandas as pd\n",
    "from sklearn.model_selection import train_test_split\n",
    "from sklearn.linear_model import LinearRegression\n",
    "from sklearn.metrics import r2_score\n",
    "\n",
    "# Load cleaned dataset\n",
    "file_path = \"../data/cleaned_study_data.csv\"\n",
    "df = pd.read_csv(file_path)\n",
    "\n",
    "# Split data into training and test sets\n",
    "X = df[[\"Hours Studied\"]]\n",
    "y = df[\"Lines of Code Written\"]\n",
    "\n",
    "X_train, X_test, y_train, y_test = train_test_split(X, y, test_size=0.2, random_state=42)\n",
    "\n",
    "# Linear Regression Model\n",
    "model = LinearRegression()\n",
    "model.fit(X_train, y_train)\n",
    "\n",
    "# Predictions and evaluation\n",
    "predictions = model.predict(X_test)\n",
    "r2 = r2_score(y_test, predictions)\n",
    "print(f\"R^2 Score: {r2}\")\n",
    "\n",
    "# Save model for reuse (optional)\n",
    "import joblib\n",
    "joblib.dump(model, \"../models/linear_regression_model.pkl\")\n"
   ],
   "outputs": [
    {
     "name": "stdout",
     "output_type": "stream",
     "text": [
      "R^2 Score: 0.9906207046324975\n"
     ]
    },
    {
     "data": {
      "text/plain": [
       "['../models/linear_regression_model.pkl']"
      ]
     },
     "execution_count": 4,
     "metadata": {},
     "output_type": "execute_result"
    }
   ],
   "execution_count": 4
  }
 ],
 "metadata": {
  "language_info": {
   "name": "python"
  },
  "orig_nbformat": 4,
  "kernelspec": {
   "name": "python3",
   "language": "python",
   "display_name": "Python 3 (ipykernel)"
  }
 },
 "nbformat": 4,
 "nbformat_minor": 2
}
