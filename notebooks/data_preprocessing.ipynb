{
 "cells": [
  {
   "cell_type": "code",
   "metadata": {
    "ExecuteTime": {
     "end_time": "2025-01-10T15:26:57.156876Z",
     "start_time": "2025-01-10T15:26:57.121131Z"
    }
   },
   "source": [
    "# Import libraries\n",
    "import pandas as pd\n",
    "\n",
    "# Load dataset\n",
    "file_path = \"../data/study_data.csv\"\n",
    "df = pd.read_csv(file_path)\n",
    "\n",
    "# Basic information and cleaning\n",
    "print(df.info())\n",
    "print(df.describe())\n",
    "\n",
    "# Save cleaned data for next steps\n",
    "df.to_csv(\"../data/cleaned_study_data.csv\", index=False)"
   ],
   "outputs": [
    {
     "name": "stdout",
     "output_type": "stream",
     "text": [
      "<class 'pandas.core.frame.DataFrame'>\n",
      "RangeIndex: 45 entries, 0 to 44\n",
      "Data columns (total 3 columns):\n",
      " #   Column                 Non-Null Count  Dtype\n",
      "---  ------                 --------------  -----\n",
      " 0   Days Studied           45 non-null     int64\n",
      " 1   Hours Studied          45 non-null     int64\n",
      " 2   Lines of Code Written  45 non-null     int64\n",
      "dtypes: int64(3)\n",
      "memory usage: 1.2 KB\n",
      "None\n",
      "       Days Studied  Hours Studied  Lines of Code Written\n",
      "count     45.000000      45.000000              45.000000\n",
      "mean      23.000000       3.222222             116.222222\n",
      "std       13.133926       2.098581              75.144978\n",
      "min        1.000000       0.000000               0.000000\n",
      "25%       12.000000       2.000000              70.000000\n",
      "50%       23.000000       3.000000             120.000000\n",
      "75%       34.000000       5.000000             180.000000\n",
      "max       45.000000       6.000000             240.000000\n"
     ]
    }
   ],
   "execution_count": 3
  }
 ],
 "metadata": {
  "kernelspec": {
   "display_name": "Python 3 (ipykernel)",
   "language": "python",
   "name": "python3"
  },
  "language_info": {
   "codemirror_mode": {
    "name": "ipython",
    "version": 3
   },
   "file_extension": ".py",
   "mimetype": "text/x-python",
   "name": "python",
   "nbconvert_exporter": "python",
   "pygments_lexer": "ipython3",
   "version": "3.13.1"
  },
  "orig_nbformat": 4
 },
 "nbformat": 4,
 "nbformat_minor": 2
}
